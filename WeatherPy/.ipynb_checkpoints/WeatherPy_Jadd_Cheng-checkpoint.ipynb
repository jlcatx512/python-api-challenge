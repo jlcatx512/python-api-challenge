{
 "cells": [
  {
   "cell_type": "markdown",
   "metadata": {},
   "source": [
    "## August 25, 2019 ##\n",
    "* Jadd Cheng\n",
    "* Three observable trends.\n",
    "* [citipy 0.0.5](https://pypi.org/project/citipy/) - \"Look for nearest city with geo coordinates.\"\n",
    "* [OpenWeatherMap API](https://openweathermap.org/api)\n",
    "* config file\n",
    "\n",
    "## Three observable Trends ##\n",
    "* Trend 1\n",
    "* Trend 2\n",
    "* Trend 3\n",
    "\n",
    "## Assignment ##\n",
    "* Your objective is to build a series of scatter plots to showcase the following relationships:\n",
    "    * Temperature (F) vs. Latitude\n",
    "    * Humidity (%) vs. Latitude\n",
    "    * Cloudiness (%) vs. Latitude\n",
    "    * Wind Speed (mph) vs. Latitude\n",
    "* Your final notebook must:\n",
    "    * Randomly select at least 500 unique (non-repeat) cities based on latitude and longitude.\n",
    "    * Perform a weather check on each of the cities using a series of successive API calls.\n",
    "    * Include a print log of each city as it's being processed with the city number and city name.\n",
    "    * Save both a CSV of all data retrieved and png images for each scatter plot.\n",
    "    \n",
    "### TASKS ##\n",
    "* [ ] Create config.py file.\n",
    "* [ ] Add OpenWeatherMap API key. Change current.\n",
    "* [ ] Ask if we can use OpenWeatherMap wrapper\n",
    "* [ ] Ask if we need separate scatter plots for each relationship or multiple plot."
   ]
  },
  {
   "cell_type": "code",
   "execution_count": 3,
   "metadata": {},
   "outputs": [],
   "source": [
    "# import dependencies\n",
    "import pandas as pd\n",
    "import matplotlib.pyplot as plt\n",
    "import random # generate random index numbers for cities list.\n",
    "import json\n",
    "import requests\n",
    "\n",
    "import openweathermapy.core as owm\n",
    "import citipy\n",
    "\n",
    "from config import api_key\n",
    "\n",
    "# https://github.com/the-Coding-Boot-Camp-at-UT/UT-MCB-DATA-PT-07-2019-U-C/blob/master/class-content/06-Python-APIs/2/Activities/09-Ins_OpenWeatherWrapper/Solved/Ins_OpenWeatherWrapper.ipynb\n",
    "# openweather api"
   ]
  },
  {
   "cell_type": "code",
   "execution_count": 2,
   "metadata": {},
   "outputs": [
    {
     "data": {
      "text/plain": [
       "['__builtins__',\n",
       " '__cached__',\n",
       " '__doc__',\n",
       " '__file__',\n",
       " '__loader__',\n",
       " '__name__',\n",
       " '__package__',\n",
       " '__path__',\n",
       " '__spec__']"
      ]
     },
     "execution_count": 2,
     "metadata": {},
     "output_type": "execute_result"
    }
   ],
   "source": [
    "# List citipy methods and attributes\n",
    "dir(citipy)"
   ]
  },
  {
   "cell_type": "markdown",
   "metadata": {},
   "source": [
    "## Generate Cities List"
   ]
  },
  {
   "cell_type": "code",
   "execution_count": null,
   "metadata": {},
   "outputs": [],
   "source": [
    "# Randomly select at least 500 unique (non-repeat) cities based on latitude and longitude.\n",
    "# city_id --> a list of cities. does this include towns?\n",
    "# generating a list of lat and lng.\n",
    "# unique.\n",
    "# use citipy for this?"
   ]
  },
  {
   "cell_type": "markdown",
   "metadata": {},
   "source": [
    "## Perform API Calls"
   ]
  },
  {
   "cell_type": "code",
   "execution_count": 7,
   "metadata": {},
   "outputs": [
    {
     "name": "stdout",
     "output_type": "stream",
     "text": [
      "Current weather object for Paris: {'coord': {'lon': 2.35, 'lat': 48.86}, 'weather': [{'id': 800, 'main': 'Clear', 'description': 'clear sky', 'icon': '01d'}], 'base': 'stations', 'main': {'temp': 15.28, 'pressure': 1018, 'humidity': 77, 'temp_min': 11.11, 'temp_max': 19.44}, 'visibility': 10000, 'wind': {'speed': 0.5}, 'clouds': {'all': 0}, 'dt': 1566798717, 'sys': {'type': 1, 'id': 6540, 'message': 0.0117, 'country': 'FR', 'sunrise': 1566795505, 'sunset': 1566845225}, 'timezone': 7200, 'id': 2988507, 'name': 'Paris', 'cod': 200}.\n"
     ]
    }
   ],
   "source": [
    "# Perform a weather check on each of the cities using a series of successive API calls.\n",
    "\n",
    "# test single call\n",
    "url = \"http://api.openweathermap.org/data/2.5/weather?\"\n",
    "city = \"Paris\"\n",
    "\n",
    "# Build query URL\n",
    "# query_url = url + \"appid=\" + api_key + \"&q=\" + city\n",
    "\n",
    "# Create settings dictionary with information we're interested in\n",
    "settings = {\"units\": \"metric\", \"appid\": api_key}\n",
    "    \n",
    "# Get current weather\n",
    "current_weather_paris = owm.get_current(city, **settings)\n",
    "print(f\"Current weather object for Paris: {current_weather_paris}.\")\n",
    "\n",
    "print(current_weather_paris[])\n",
    "# query terms\n",
    "# 1. Temperature (F) \n",
    "# 2. Latitude\n",
    "# 3. Humidity (%)\n",
    "# 4. Cloudiness (%)\n",
    "# 5. Wind Speed (mph)"
   ]
  },
  {
   "cell_type": "code",
   "execution_count": 14,
   "metadata": {},
   "outputs": [
    {
     "name": "stdout",
     "output_type": "stream",
     "text": [
      "The current weather summary for Paris is: ('Paris', 15.28, 77, 48.86, 0, 0.5).\n"
     ]
    }
   ],
   "source": [
    "summary = [\"name\", \"main.temp\", \"main.humidity\", \"coord.lat\", \"clouds.all\", \"wind.speed\"]\n",
    "\n",
    "data = current_weather_paris(*summary)\n",
    "print(f\"The current weather summary for Paris is: {data}.\")"
   ]
  },
  {
   "cell_type": "code",
   "execution_count": null,
   "metadata": {},
   "outputs": [],
   "source": [
    "# Include a print log of each city as it's being processed with the city number and city name.\n",
    "# log format --> see example."
   ]
  },
  {
   "cell_type": "code",
   "execution_count": null,
   "metadata": {},
   "outputs": [],
   "source": [
    "# Save both a CSV of all data retrieved and png images for each scatter plot.\n",
    "\n",
    "# scatter plot\n",
    "# title\n",
    "# x axis\n",
    "# y axis\n",
    "\n",
    "weather_df = pd.DataFrame({\n",
    "    \"City\": \"\",\n",
    "    \"Temperature (F)\": \"\",\n",
    "    \"Latitude\": \" \",\n",
    "    \"Humidity (%)\": \"\",\n",
    "    \"Cloudiness (%)\": \"\",\n",
    "    \"Wind Speed (mph)\": \"\"\n",
    "})"
   ]
  }
 ],
 "metadata": {
  "kernelspec": {
   "display_name": "Conda [PythonData]",
   "language": "python",
   "name": "pythondata"
  },
  "language_info": {
   "codemirror_mode": {
    "name": "ipython",
    "version": 3
   },
   "file_extension": ".py",
   "mimetype": "text/x-python",
   "name": "python",
   "nbconvert_exporter": "python",
   "pygments_lexer": "ipython3",
   "version": "3.7.3"
  }
 },
 "nbformat": 4,
 "nbformat_minor": 2
}
